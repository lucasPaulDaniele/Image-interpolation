{
 "cells": [
  {
   "cell_type": "code",
   "execution_count": 9,
   "metadata": {},
   "outputs": [],
   "source": [
    "import urllib\n",
    "from bs4 import BeautifulSoup\n",
    "from pytube import YouTube\n",
    "import cv2\n",
    "import os\n",
    "import glob"
   ]
  },
  {
   "cell_type": "code",
   "execution_count": 14,
   "metadata": {},
   "outputs": [],
   "source": [
    "def get_urls(limit=10):\n",
    "    urls = [\n",
    "        'https://www.youtube.com/watch?v=K30yHXasgMM',\n",
    "        'https://www.youtube.com/watch?v=suEWIOEv6HU',\n",
    "        'https://www.youtube.com/watch?v=iUzG5KNP6aI',\n",
    "        'https://www.youtube.com/watch?v=1-LjFS0_d-A',\n",
    "        'https://www.youtube.com/watch?v=U0cgBttnsXc',\n",
    "        'https://www.youtube.com/watch?v=iDvqJl6rnhM',\n",
    "        'https://www.youtube.com/watch?v=iqJKohK2f8g',\n",
    "        'https://www.youtube.com/watch?v=CjOC1CSPBW0', \n",
    "        'https://www.youtube.com/watch?v=QGAMTlI6XxY',\n",
    "        'https://www.youtube.com/watch?v=ebYt-jlCeL4'\n",
    "        'https://www.youtube.com/watch?v=UFt7DCERk9U',\n",
    "        'https://www.youtube.com/watch?v=e6EVBM68jXQ'\n",
    "        'https://www.youtube.com/watch?v=JAt85wxQ1TY',\n",
    "        'https://www.youtube.com/watch?v=A3X4bBQAWS4',\n",
    "        'https://www.youtube.com/watch?v=U2nYKvFxMLk',\n",
    "        'https://www.youtube.com/watch?v=_eU0-eRXaY0',\n",
    "        'https://www.youtube.com/watch?v=tXE1UP257Yg',\n",
    "        'https://www.youtube.com/watch?v=oaVjgfT25N8',\n",
    "        'https://www.youtube.com/watch?v=aLMQsw8aa34',\n",
    "        'https://www.youtube.com/watch?v=8BQKLm1ereM',\n",
    "        'https://www.youtube.com/watch?v=op0WAfqcNQQ',\n",
    "        'https://www.youtube.com/watch?v=zxEWrb_OxK4',\n",
    "        'https://www.youtube.com/watch?v=1wVZNaIEaS0',\n",
    "        'https://www.youtube.com/watch?v=8w31x8YMbDU',\n",
    "        'https://www.youtube.com/watch?v=ZWbgHOBLQg0',\n",
    "        'https://www.youtube.com/watch?v=iNEwkaYmPqY',\n",
    "        'https://www.youtube.com/watch?v=TaAM5MovXp0',\n",
    "        'https://www.youtube.com/watch?v=aiE9EVQCO3o',\n",
    "        'https://www.youtube.com/watch?v=Ddq2k1mRDY4',\n",
    "        'https://www.youtube.com/watch?v=NnRtj_uilMY'\n",
    "    ]\n",
    "    return urls\n",
    "\n",
    "def download_video(url, path=None):\n",
    "  yt = YouTube(url)\n",
    "  stream = yt.streams.filter(file_extension='mp4').first()\n",
    "  out_file = stream.download(path)\n",
    "  file_name = out_file.split(\"\\\\\")[-1]\n",
    "  return file_name\n",
    "    \n",
    "def extract_images_from_video(video, folder=None, name=\"file\", silent=False):    \n",
    "    vidcap = cv2.VideoCapture(video)\n",
    "    num_images = 0\n",
    "    if not folder:\n",
    "        folder = os.getcwd()\n",
    "    success = True\n",
    "    fps = int(vidcap.get(cv2.CAP_PROP_FPS))\n",
    "    \n",
    "    while success:\n",
    "        success, image = vidcap.read()\n",
    "        if success:\n",
    "          image = cv2.cvtColor(image, cv2.COLOR_BGR2GRAY)\n",
    "          image = cv2.resize(image, (128, 128))\n",
    "          num_images += 1\n",
    "          file_name = name + \"_\" + str(num_images) + \".jpg\"\n",
    "          path = os.path.join(folder, file_name)\n",
    "          cv2.imwrite(path, image)\n",
    "          if cv2.imread(path) is None:\n",
    "              os.remove(path)\n",
    "          else:\n",
    "              if not silent:\n",
    "                  print(f'Image successfully written at {path}')\n",
    "          vidcap.set(1, num_images)\n",
    "\n",
    "def extract_images_from_word(delete_video=False, num_urls=10, silent=False):\n",
    "    urls = get_urls(num_urls)\n",
    "    for url in urls:\n",
    "        download_video(url)\n",
    "    for i, video in enumerate(glob.glob(\"*.mp4\")):\n",
    "        name = video.split('.mp4')[0]\n",
    "        if not os.path.exists(name):\n",
    "          os.mkdir(name)\n",
    "        extract_images_from_video(video, folder=name, name=name, silent=silent)\n",
    "        if delete_video:\n",
    "            os.remove(video)"
   ]
  },
  {
   "cell_type": "code",
   "execution_count": null,
   "metadata": {},
   "outputs": [],
   "source": [
    "extract_images_from_word(delete_video=True, num_urls=10, silent=True)"
   ]
  }
 ],
 "metadata": {
  "kernelspec": {
   "display_name": "Python 3 (ipykernel)",
   "language": "python",
   "name": "python3"
  },
  "language_info": {
   "codemirror_mode": {
    "name": "ipython",
    "version": 3
   },
   "file_extension": ".py",
   "mimetype": "text/x-python",
   "name": "python",
   "nbconvert_exporter": "python",
   "pygments_lexer": "ipython3",
   "version": "3.9.12"
  },
  "vscode": {
   "interpreter": {
    "hash": "37083a178839ddb6837eca99e3841ef7be6dad5dc50c6d19829e2187d61ddd5d"
   }
  }
 },
 "nbformat": 4,
 "nbformat_minor": 2
}
